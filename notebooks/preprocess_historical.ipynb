{
 "cells": [
  {
   "cell_type": "code",
   "execution_count": 3,
   "metadata": {},
   "outputs": [],
   "source": [
    "# import kagglehub\n",
    "# import os\n",
    "\n",
    "# data_dir = \"../.cache\"\n",
    "# os.makedirs(data_dir, exist_ok=True)\n",
    "\n",
    "# os.environ['KAGGLE_CACHE_DIR'] = data_dir\n",
    "\n",
    "# path = kagglehub.dataset_download(\"mrdaniilak/russia-real-estate-20182021\")\n",
    "\n",
    "# print(\"Path to dataset files:\", path)"
   ]
  },
  {
   "cell_type": "code",
   "execution_count": 6,
   "metadata": {},
   "outputs": [],
   "source": [
    "import pandas as pd \n",
    "df = pd.read_csv('../.cache/all_v2.csv')"
   ]
  },
  {
   "cell_type": "code",
   "execution_count": 7,
   "metadata": {},
   "outputs": [
    {
     "name": "stdout",
     "output_type": "stream",
     "text": [
      "Filtered dataset saved with 67529 points.\n"
     ]
    }
   ],
   "source": [
    "from shapely.geometry import Point, Polygon\n",
    "import matplotlib.pyplot as plt\n",
    "\n",
    "sochi_polygon = Polygon([\n",
    "    (39.0, 43.0),\n",
    "    (40.5, 43.0),\n",
    "    (40.5, 44.0),\n",
    "    (39.0, 44.0)\n",
    "])\n",
    "\n",
    "def is_in_sochi(row):\n",
    "    point = Point(row['geo_lon'], row['geo_lat'])\n",
    "    return sochi_polygon.contains(point)\n",
    "\n",
    "df['in_sochi'] = df.apply(is_in_sochi, axis=1)\n",
    "sochi_points = df[df['in_sochi']].drop(columns=['in_sochi'])\n",
    "\n",
    "sochi_points.to_csv('../data/sochi_real_estate_full.csv', index=False)\n",
    "\n",
    "print(f\"Filtered dataset saved with {len(sochi_points)} points.\")"
   ]
  },
  {
   "cell_type": "code",
   "execution_count": 9,
   "metadata": {},
   "outputs": [
    {
     "name": "stdout",
     "output_type": "stream",
     "text": [
      "Interactive map saved as 'sochi_heatmap.html'.\n"
     ]
    }
   ],
   "source": [
    "import pandas as pd\n",
    "import folium\n",
    "from folium.plugins import HeatMap\n",
    "\n",
    "sochi_points['year'] = pd.to_datetime(sochi_points['date']).dt.year\n",
    "\n",
    "m = folium.Map(location=[43.6, 39.7], zoom_start=10)\n",
    "\n",
    "for year in sochi_points['year'].unique():\n",
    "    year_data = sochi_points[sochi_points['year'] == year]\n",
    "    heat_data = [[row['geo_lat'], row['geo_lon']] for _, row in year_data.iterrows()]\n",
    "    HeatMap(heat_data, name=f'Year {year}').add_to(m)\n",
    "\n",
    "folium.LayerControl().add_to(m)\n",
    "m.save('sochi_heatmap.html')\n",
    "print(\"Interactive map saved as 'sochi_heatmap.html'.\")"
   ]
  },
  {
   "cell_type": "code",
   "execution_count": null,
   "metadata": {},
   "outputs": [],
   "source": []
  }
 ],
 "metadata": {
  "kernelspec": {
   "display_name": ".venv",
   "language": "python",
   "name": "python3"
  },
  "language_info": {
   "codemirror_mode": {
    "name": "ipython",
    "version": 3
   },
   "file_extension": ".py",
   "mimetype": "text/x-python",
   "name": "python",
   "nbconvert_exporter": "python",
   "pygments_lexer": "ipython3",
   "version": "3.12.2"
  }
 },
 "nbformat": 4,
 "nbformat_minor": 2
}
